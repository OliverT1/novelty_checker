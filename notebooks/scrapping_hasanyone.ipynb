{
 "cells": [
  {
   "cell_type": "code",
   "execution_count": null,
   "metadata": {},
   "outputs": [],
   "source": [
    "novelty-check check --hybrid \"Has anyone looked into whether PTEN neddylation aggravates CDK4/6 inhibitor resistance in breast cancer\""
   ]
  },
  {
   "cell_type": "code",
   "execution_count": 99,
   "metadata": {},
   "outputs": [
    {
     "name": "stderr",
     "output_type": "stream",
     "text": [
      "Getting answers:  36%|███▌      | 37/103 [00:34<00:58,  1.13it/s]"
     ]
    },
    {
     "name": "stdout",
     "output_type": "stream",
     "text": [
      "\n",
      "204\n",
      "{'Date': 'Sat, 28 Dec 2024 20:45:16 GMT', 'Connection': 'keep-alive', 'access-control-allow-credentials': 'true', 'Report-To': '{\"endpoints\":[{\"url\":\"https:\\\\/\\\\/a.nel.cloudflare.com\\\\/report\\\\/v4?s=yzjlms%2FbZWVuV3sNJRMSPrzw5nAuB%2B6HR6WcludItpFIVLJT03xv2WBUFvqVVlzILujPQScepyvsTviO6egbF53kiEtiZn8Ut5lFgH4alG3FePc09WMAweMz2iUqHUQoRrBG0U1NGw%3D%3D\"}],\"group\":\"cf-nel\",\"max_age\":604800}', 'NEL': '{\"success_fraction\":0,\"report_to\":\"cf-nel\",\"max_age\":604800}', 'Vary': 'Accept-Encoding', 'Server': 'cloudflare', 'CF-RAY': '8f94649c6e3af656-LHR', 'alt-svc': 'h3=\":443\"; ma=86400', 'server-timing': 'cfL4;desc=\"?proto=TCP&rtt=13855&min_rtt=12825&rtt_var=5545&sent=4&recv=6&lost=0&retrans=0&sent_bytes=2845&recv_bytes=873&delivery_rate=224561&cwnd=218&unsent_bytes=0&cid=e7bb1da34c1dcad8&ts=772&x=0\"'}\n",
      "0191c3-11\n",
      "Has anyone ever identified an aminoacyl tRNA synthetase that can charge tRNAs with 2-aminoisobutyric acid?\n"
     ]
    },
    {
     "name": "stderr",
     "output_type": "stream",
     "text": [
      "Getting answers:  60%|██████    | 62/103 [00:57<00:35,  1.14it/s]"
     ]
    },
    {
     "name": "stdout",
     "output_type": "stream",
     "text": [
      "\n",
      "204\n",
      "{'Date': 'Sat, 28 Dec 2024 20:45:39 GMT', 'Connection': 'keep-alive', 'access-control-allow-credentials': 'true', 'Report-To': '{\"endpoints\":[{\"url\":\"https:\\\\/\\\\/a.nel.cloudflare.com\\\\/report\\\\/v4?s=ilcisNiXXdbJQRop%2FoMVE7V3rujhMC4m%2F76Y1vD%2FaQT4nsEQriaIiLtsffTkpPIzvqh0tPtl4CXTrOr3vX%2FIMEBITBfn9plNWPXDBxZMTA%2Fz8rwVgHDrsFo8qEEelRkNNHkU47IyOg%3D%3D\"}],\"group\":\"cf-nel\",\"max_age\":604800}', 'NEL': '{\"success_fraction\":0,\"report_to\":\"cf-nel\",\"max_age\":604800}', 'Vary': 'Accept-Encoding', 'Server': 'cloudflare', 'CF-RAY': '8f94652aa94188b6-LHR', 'alt-svc': 'h3=\":443\"; ma=86400', 'server-timing': 'cfL4;desc=\"?proto=TCP&rtt=12194&min_rtt=11414&rtt_var=4837&sent=4&recv=6&lost=0&retrans=0&sent_bytes=2846&recv_bytes=873&delivery_rate=252321&cwnd=244&unsent_bytes=0&cid=7adf4768a46d0989&ts=788&x=0\"'}\n",
      "0191c3-17\n",
      "Has anyone made an LLM prompt set-up where one LLM pretends to be the user and the other the assistant and they accomplish a complex task via chatting?\n"
     ]
    },
    {
     "name": "stderr",
     "output_type": "stream",
     "text": [
      "Getting answers:  75%|███████▍  | 77/103 [01:10<00:24,  1.08it/s]"
     ]
    },
    {
     "name": "stdout",
     "output_type": "stream",
     "text": [
      "\n",
      "204\n",
      "{'Date': 'Sat, 28 Dec 2024 20:45:52 GMT', 'Connection': 'keep-alive', 'access-control-allow-credentials': 'true', 'Report-To': '{\"endpoints\":[{\"url\":\"https:\\\\/\\\\/a.nel.cloudflare.com\\\\/report\\\\/v4?s=w5Y5z70wxWvEd7K3PlYG63YDYuizpbov8tocS%2FKlE8SUZHfL8m55iKxCNJ%2FAovEzu9h96cxLkz4Z%2BQHojIO%2Fsc6z2kQmspAksVkpXlZImRJ5ng0O2uyXBnDGFuN6oj5wV0Ki%2FeKFbw%3D%3D\"}],\"group\":\"cf-nel\",\"max_age\":604800}', 'NEL': '{\"success_fraction\":0,\"report_to\":\"cf-nel\",\"max_age\":604800}', 'Vary': 'Accept-Encoding', 'Server': 'cloudflare', 'CF-RAY': '8f9465802b8363b0-LHR', 'alt-svc': 'h3=\":443\"; ma=86400', 'server-timing': 'cfL4;desc=\"?proto=TCP&rtt=11977&min_rtt=11958&rtt_var=4524&sent=4&recv=6&lost=0&retrans=0&sent_bytes=2847&recv_bytes=872&delivery_rate=237682&cwnd=235&unsent_bytes=0&cid=3b214ffc38fcf074&ts=802&x=0\"'}\n",
      "652ef175\n",
      "Has anyone shown that Corticotropin-releasing hormone decreases weight loss?\n"
     ]
    },
    {
     "name": "stderr",
     "output_type": "stream",
     "text": [
      "Getting answers: 100%|██████████| 103/103 [01:35<00:00,  1.08it/s]\n"
     ]
    }
   ],
   "source": [
    "from numpy import true_divide\n",
    "import requests\n",
    "from bs4 import BeautifulSoup\n",
    "from selenium import webdriver\n",
    "from selenium.webdriver.chrome.options import Options\n",
    "from tqdm import tqdm\n",
    "# Set up a headless Chrome browser\n",
    "chrome_options = Options()\n",
    "chrome_options.add_argument(\"--headless\")\n",
    "driver = webdriver.Chrome(options=chrome_options)\n",
    "\n",
    "\n",
    "\n",
    "def get_question_id(question):\n",
    "    url = \"https://worker.hasanyone.com/api/v1/pqa-query\"\n",
    "    headers = {\n",
    "        \"accept\": \"*/*\",\n",
    "        \"accept-language\": \"en-GB,en-US;q=0.9,en;q=0.8\",\n",
    "        \"content-type\": \"application/json\",\n",
    "    }\n",
    "    data = {\"query\": question}\n",
    "    response = requests.post(url, headers=headers, json=data)\n",
    "    id = response.text\n",
    "    if id == \"Unauthorized\":\n",
    "        raise Exception(\"Unauthorized, not previously run query.\")\n",
    "    return id\n",
    "\n",
    "# --- Function to scrape research questions using the POST request ---\n",
    "def scrape_research_questions():\n",
    "    url = \"https://worker.hasanyone.com/queries\"\n",
    "    headers = {\n",
    "        \"accept\": \"*/*\",\n",
    "        \"accept-language\": \"en-GB,en-US;q=0.9,en;q=0.8\",\n",
    "        \"content-type\": \"application/json\",\n",
    "    }\n",
    "    response = requests.get(url, headers=headers)\n",
    "    questions = response.json()\n",
    "    return questions\n",
    "\n",
    "# --- Function to scrape question details from a given question ID ---\n",
    "def scrape_question_details(question_id):\n",
    "    url = f\"https://hasanyone.com/?id={question_id}\"\n",
    "    driver.get(url)\n",
    "    soup = BeautifulSoup(driver.page_source, \"html.parser\")\n",
    "    print(driver.page_source)\n",
    "    # Extract the question text\n",
    "    question = soup.find(\"p\", class_=\"chakra-text\").text.strip()\n",
    "\n",
    "    # Extract the answer\n",
    "    answer = soup.find(\"strong\", class_=\"chakra-text\").text.strip()\n",
    "\n",
    "    # Extract the references\n",
    "    references_section = soup.find(\"div\", id=\"accordion-panel-2\")\n",
    "    references = []\n",
    "    if references_section:\n",
    "        for ref_element in references_section.find_all(\"a\"):\n",
    "            references.append(ref_element.text.strip())\n",
    "\n",
    "    # Extract the usage statistics\n",
    "    stats_section = soup.find(\"div\", id=\"accordion-panel-3\")\n",
    "    stats = {}\n",
    "    if stats_section:\n",
    "        for stat_row in stats_section.find_all(\"tr\"):\n",
    "            key, value = stat_row.find_all(\"td\")\n",
    "            stats[key.text.strip()] = value.text.strip()\n",
    "\n",
    "    return {\n",
    "        \"question\": question,\n",
    "        \"answer\": answer,\n",
    "        \"references\": references,\n",
    "        \"stats\": stats,\n",
    "    }\n",
    "    \n",
    "def get_answer_and_stats(question_id, question):\n",
    "    url = f\"https://worker.hasanyone.com/api/v1/pqa-query/{question_id}\"\n",
    "    headers = {\n",
    "        \"accept\": \"*/*\",\n",
    "        \"accept-language\": \"en-GB,en-US;q=0.9,en;q=0.8\",\n",
    "        \"content-type\": \"application/json\",\n",
    "        # \"x-query\": question  # Include the question in the x-query header\n",
    "    }\n",
    "\n",
    "    response = requests.get(url, headers=headers)\n",
    "    try:\n",
    "        response_data = response.json()['response']\n",
    "    except:\n",
    "        print(response.text)\n",
    "        print(response.status_code)\n",
    "        print(response.headers)\n",
    "        print(question_id)\n",
    "        print(question)\n",
    "        return None\n",
    "        \n",
    "\n",
    "\n",
    "    # Extract the answer\n",
    "    answer = response_data.get(\"answer\", \"Answer not found\") \n",
    "\n",
    "    # Extract the statistics\n",
    "    stats = response_data.get(\"stats\", \"Stats not found\")\n",
    "    \n",
    "    # work out if answer is yes or no\n",
    "    # check if beginning with yes or no\n",
    "    if answer['answer'].lower().startswith(\"yes\"):\n",
    "        yes_no = \"yes\"\n",
    "    elif answer['answer'].lower().startswith(\"no\"):\n",
    "        yes_no = \"no\"\n",
    "    else:\n",
    "        raise Exception(\"Answer is not yes or no\")\n",
    "\n",
    "    return {\n",
    "        \"stats\": stats,\n",
    "        \"question\": question,\n",
    "        \"yes_no\": yes_no,\n",
    "        \"answer\": answer,\n",
    "    }\n",
    "\n",
    "# --- Main execution ---\n",
    "questions = scrape_research_questions()\n",
    "question_to_id = {question: get_question_id(question) for question in questions}\n",
    "question_to_result = {}\n",
    "for question in tqdm(questions, desc=\"Getting answers\"):\n",
    "    question_to_result[question] = get_answer_and_stats(question_to_id[question], question)\n"
   ]
  },
  {
   "cell_type": "code",
   "execution_count": 130,
   "metadata": {},
   "outputs": [
    {
     "data": {
      "text/plain": [
       "'49da75c4'"
      ]
     },
     "execution_count": 130,
     "metadata": {},
     "output_type": "execute_result"
    }
   ],
   "source": [
    "get_question_id(\"Has anyone made a database of all the CRISPR-associated proteins and engineering Cas proteins that are used in CRISPR genome engineering? \")"
   ]
  },
  {
   "cell_type": "code",
   "execution_count": 129,
   "metadata": {},
   "outputs": [
    {
     "data": {
      "text/plain": [
       "['Has anyone built an AI tool for designing new CRISPR/Cas variants to minimize off target DNA cutting? ',\n",
       " 'Has anyone explored the combination of photonics-based neural recording with CRISPR genome editing technologies to advance understanding of neural diseases',\n",
       " 'Has anyone made a database of all the CRISPR-associated proteins and engineering Cas proteins that are used in CRISPR genome engineering? ']"
      ]
     },
     "execution_count": 129,
     "metadata": {},
     "output_type": "execute_result"
    }
   ],
   "source": [
    "[q for q in scrape_research_questions() if \"CRISPR\" in q]"
   ]
  },
  {
   "cell_type": "code",
   "execution_count": 109,
   "metadata": {},
   "outputs": [
    {
     "name": "stdout",
     "output_type": "stream",
     "text": [
      "100\n",
      "100\n"
     ]
    }
   ],
   "source": [
    "# remove None results\n",
    "import json\n",
    "print(len(question_to_result))\n",
    "question_to_result = {k: v for k, v in question_to_result.items() if v is not None}\n",
    "print(len(question_to_result))\n",
    "# save out to json\n",
    "with open(\"hasanyone_results.json\", \"w\") as f:\n",
    "    json.dump(question_to_result, f)\n",
    "    \n",
    "# save out a version with only the question and yes / no answer as csv using pandas\n",
    "import pandas as pd\n",
    "keys = list(question_to_result.keys())\n",
    "yes_no = [question_to_result[key]['yes_no'] for key in keys]\n",
    "# randomly make 50% validation set, 50% test set\n",
    "df = pd.DataFrame({\"question\": keys, \"yes_no\": yes_no})\n",
    "df = df.sample(frac=1).reset_index(drop=True)\n",
    "df['split'] = 'test'\n",
    "df.iloc[:len(df)//2, -1] = 'validation'\n",
    "df.to_csv(\"hasanyone_results_question_yes_no_split.csv\", index=False)\n"
   ]
  },
  {
   "cell_type": "code",
   "execution_count": 123,
   "metadata": {},
   "outputs": [
    {
     "name": "stdout",
     "output_type": "stream",
     "text": [
      "('Several papers demonstrate that the proposed research question has been '\n",
      " 'addressed. Specifically, the paper titled \"Aerosol-Mediated Non-Viral Lung '\n",
      " 'Gene Therapy: The Potential of Aminoglycoside-Based Cationic Liposomes\" '\n",
      " '(URL: https://pubmed.ncbi.nlm.nih.gov/35056921/) confirms aerosol-mediated '\n",
      " 'non-viral lung gene therapy has been demonstrated, citing progress using the '\n",
      " 'lipidic formulation GL67A in cystic fibrosis treatment as an example. '\n",
      " 'Furthermore, the paper \"Aerosol Inhalation of Gene Delivery Therapy for '\n",
      " 'Pulmonary...\" (URL: https://pubmed.ncbi.nlm.nih.gov/39199292/) and a '\n",
      " 'similarly titled paper (URL: https://www.mdpi.com/2218-273X/14/8/904) review '\n",
      " 'aerosol gene delivery therapy for pulmonary diseases, noting various gene '\n",
      " 'types and carriers and citing successes in diseases like SARS-CoV-2, cystic '\n",
      " 'fibrosis, and lung cancer. Additionally, the paper \"Aerosol Delivery of '\n",
      " 'Synthetic mRNA to Vaginal Mucosa...\" (URL: '\n",
      " 'https://pmc.ncbi.nlm.nih.gov/articles/PMC7054722/) shows successful aerosol '\n",
      " 'delivery of mRNA to the vaginal mucosa. \"Effective pulmonary delivery of an '\n",
      " 'aerosolized plasmid DNA...\" (URL: '\n",
      " 'https://respiratory-research.biomedcentral.com/articles/10.1186/1465-9921-15-60) '\n",
      " 'provides evidence of successful aerosolized delivery of plasmid DNA to the '\n",
      " 'lungs. Finally, the 1996 study \"EFFICIENT GENE DELIVERY TO PIGLET LUNGS...\" '\n",
      " '(URL: https://www.nature.com/articles/pr19961553) demonstrates aerosol '\n",
      " 'delivery of gene therapy using cationic liposomes and a novel cationic '\n",
      " 'peptide to piglet lungs. While the review \"Inhalation delivery technology '\n",
      " 'for genome-editing of respiratory diseases\" (URL: '\n",
      " 'https://www.sciencedirect.com/science/article/pii/S0169409X20300478 and '\n",
      " 'https://pubmed.ncbi.nlm.nih.gov/32512029) discusses the potential of '\n",
      " 'aerosol-delivered gene therapy, these do not provide examples of successful '\n",
      " 'therapies, but rather focus on the need for future development. The review, '\n",
      " '\"The expanding role of aerosols in systemic drug delivery...\" (URL: '\n",
      " 'https://transrespmed.springeropen.com/articles/10.1186/2213-0802-2-3) '\n",
      " 'discusses the challenges of gene therapy delivered via aerosol, but does not '\n",
      " 'deny that such work exists. Therefore, there is ample evidence to confirm '\n",
      " 'that the research question has been addressed.')\n"
     ]
    }
   ],
   "source": [
    "import json\n",
    "with open(\"/Users/oliverturnbull/Repositories/novelty_checker/results/evaluation_results_10_True_0.3_gemini_gemini-2.0-flash-exp_20241228-213229.json\", \"r\") as f:\n",
    "    results = json.load(f)\n",
    "from pprint import pprint\n",
    "pprint(results['detailed_results'][0]['full_explanation'])"
   ]
  },
  {
   "cell_type": "code",
   "execution_count": null,
   "metadata": {},
   "outputs": [],
   "source": []
  },
  {
   "cell_type": "markdown",
   "metadata": {},
   "source": []
  },
  {
   "cell_type": "code",
   "execution_count": null,
   "metadata": {},
   "outputs": [],
   "source": []
  }
 ],
 "metadata": {
  "kernelspec": {
   "display_name": ".venv",
   "language": "python",
   "name": "python3"
  },
  "language_info": {
   "codemirror_mode": {
    "name": "ipython",
    "version": 3
   },
   "file_extension": ".py",
   "mimetype": "text/x-python",
   "name": "python",
   "nbconvert_exporter": "python",
   "pygments_lexer": "ipython3",
   "version": "3.9.12"
  }
 },
 "nbformat": 4,
 "nbformat_minor": 2
}
